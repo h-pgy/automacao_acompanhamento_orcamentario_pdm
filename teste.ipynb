{
 "cells": [
  {
   "cell_type": "code",
   "execution_count": 1,
   "id": "f40063ed-e9ba-4b4c-8d8f-2d48099fb6e3",
   "metadata": {},
   "outputs": [],
   "source": [
    "from core.load_data import Loader\n",
    "import pandas as pd"
   ]
  },
  {
   "cell_type": "code",
   "execution_count": 2,
   "id": "9055a46b-ed9d-4383-bb6e-b84f013b2846",
   "metadata": {},
   "outputs": [],
   "source": [
    "l = Loader()"
   ]
  },
  {
   "cell_type": "code",
   "execution_count": 3,
   "id": "f2127476-2d35-4e49-a917-f84d815cbbd8",
   "metadata": {},
   "outputs": [],
   "source": [
    "l()"
   ]
  },
  {
   "cell_type": "code",
   "execution_count": 4,
   "id": "10a3af64-6f94-4202-b899-57f22668d0ff",
   "metadata": {},
   "outputs": [],
   "source": [
    "df = pd.read_excel('generated_data/dados_limpos.xlsx')"
   ]
  },
  {
   "cell_type": "code",
   "execution_count": 5,
   "id": "6199aa9f-2b1e-4031-a905-29f8d96f1ff2",
   "metadata": {},
   "outputs": [
    {
     "data": {
      "text/plain": [
       "Unnamed: 0                         int64\n",
       "dotacao_orcamentaria_final        object\n",
       "valor_empenhado_dotacao_final    float64\n",
       "valor_liquidado_dotacao_final    float64\n",
       "processo_sei_final                object\n",
       "valor_empenhado_sei_final        float64\n",
       "valor_liquidado_sei_final        float64\n",
       "nota_de_empenho_final             object\n",
       "valor_empenhado_nota_final       float64\n",
       "valor_liquidado_nota_final       float64\n",
       "checagem_final                    object\n",
       "orgao                             object\n",
       "periodo                           object\n",
       "dtype: object"
      ]
     },
     "execution_count": 5,
     "metadata": {},
     "output_type": "execute_result"
    }
   ],
   "source": [
    "df.dtypes"
   ]
  },
  {
   "cell_type": "code",
   "execution_count": 6,
   "id": "fa830797-fa6a-4e66-b4ad-a7cb3a0286c1",
   "metadata": {},
   "outputs": [
    {
     "name": "stdout",
     "output_type": "stream",
     "text": [
      "23076168.2\n",
      "1197585.1199999999\n",
      "46069489.71\n",
      "134510.81999999998\n",
      "428863496.93000007\n",
      "78610569.21000001\n"
     ]
    }
   ],
   "source": [
    "for col in df.columns:\n",
    "    if col.startswith('valor'):\n",
    "        print(df[col].sum())"
   ]
  },
  {
   "cell_type": "code",
   "execution_count": null,
   "id": "6c96dc08-657b-4c5a-b697-acc2b45a0b2d",
   "metadata": {},
   "outputs": [],
   "source": []
  }
 ],
 "metadata": {
  "kernelspec": {
   "display_name": "Python 3",
   "language": "python",
   "name": "python3"
  },
  "language_info": {
   "codemirror_mode": {
    "name": "ipython",
    "version": 3
   },
   "file_extension": ".py",
   "mimetype": "text/x-python",
   "name": "python",
   "nbconvert_exporter": "python",
   "pygments_lexer": "ipython3",
   "version": "3.8.8"
  }
 },
 "nbformat": 4,
 "nbformat_minor": 5
}
